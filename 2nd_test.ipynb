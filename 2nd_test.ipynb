{
 "cells": [
  {
   "cell_type": "code",
   "execution_count": 10,
   "id": "7ede0484",
   "metadata": {},
   "outputs": [],
   "source": [
    "a,b =100000,2.3"
   ]
  },
  {
   "cell_type": "code",
   "execution_count": 11,
   "id": "40f9b521",
   "metadata": {},
   "outputs": [
    {
     "data": {
      "text/plain": [
       "int"
      ]
     },
     "execution_count": 11,
     "metadata": {},
     "output_type": "execute_result"
    }
   ],
   "source": [
    "type (a)"
   ]
  },
  {
   "cell_type": "code",
   "execution_count": 12,
   "id": "bd69edb5",
   "metadata": {},
   "outputs": [
    {
     "data": {
      "text/plain": [
       "float"
      ]
     },
     "execution_count": 12,
     "metadata": {},
     "output_type": "execute_result"
    }
   ],
   "source": [
    "type (b)"
   ]
  },
  {
   "cell_type": "code",
   "execution_count": 13,
   "id": "f3800234",
   "metadata": {},
   "outputs": [],
   "source": [
    "x =a+b"
   ]
  },
  {
   "cell_type": "code",
   "execution_count": 14,
   "id": "23bd76a2",
   "metadata": {},
   "outputs": [
    {
     "name": "stdout",
     "output_type": "stream",
     "text": [
      "100002.3\n"
     ]
    }
   ],
   "source": [
    "print (x)"
   ]
  },
  {
   "cell_type": "code",
   "execution_count": 15,
   "id": "7eaafe66",
   "metadata": {},
   "outputs": [
    {
     "data": {
      "text/plain": [
       "9.0"
      ]
     },
     "execution_count": 15,
     "metadata": {},
     "output_type": "execute_result"
    }
   ],
   "source": [
    "5+2*3-4/2"
   ]
  },
  {
   "cell_type": "code",
   "execution_count": 16,
   "id": "5eb8d926",
   "metadata": {},
   "outputs": [
    {
     "data": {
      "text/plain": [
       "-3.5"
      ]
     },
     "execution_count": 16,
     "metadata": {},
     "output_type": "execute_result"
    }
   ],
   "source": [
    "(5+2)*(3-4)/2"
   ]
  },
  {
   "cell_type": "code",
   "execution_count": 17,
   "id": "711c9087",
   "metadata": {},
   "outputs": [
    {
     "name": "stdout",
     "output_type": "stream",
     "text": [
      "enter data : asd\n"
     ]
    }
   ],
   "source": [
    "e= input('enter data : ')"
   ]
  },
  {
   "cell_type": "code",
   "execution_count": 18,
   "id": "b78b899d",
   "metadata": {},
   "outputs": [
    {
     "data": {
      "text/plain": [
       "str"
      ]
     },
     "execution_count": 18,
     "metadata": {},
     "output_type": "execute_result"
    }
   ],
   "source": [
    "type (e)"
   ]
  },
  {
   "cell_type": "code",
   "execution_count": 20,
   "id": "bf81a81e",
   "metadata": {},
   "outputs": [
    {
     "name": "stdout",
     "output_type": "stream",
     "text": [
      " enter the 1st number 12\n",
      " enter the 2nd number 13\n",
      "sum =  25.0\n",
      "sub =  -1.0\n",
      "div =  0.9230769230769231\n",
      "mul =  156.0\n"
     ]
    }
   ],
   "source": [
    " num1 = input(' enter the 1st number ')\n",
    "num2 = input(' enter the 2nd number ')\n",
    "num1 = float(num1)\n",
    "num2 = float(num2)\n",
    "print('sum = ',num1+num2)\n",
    "print('sub = ',num1-num2)\n",
    "print('div = ',num1/num2)\n",
    "print('mul = ',num1*num2)"
   ]
  },
  {
   "cell_type": "code",
   "execution_count": 21,
   "id": "b3aa1b3d",
   "metadata": {},
   "outputs": [],
   "source": [
    "p=5"
   ]
  },
  {
   "cell_type": "code",
   "execution_count": 22,
   "id": "848320b6",
   "metadata": {},
   "outputs": [],
   "source": [
    "l=5"
   ]
  },
  {
   "cell_type": "code",
   "execution_count": 23,
   "id": "e1cf31ca",
   "metadata": {},
   "outputs": [
    {
     "data": {
      "text/plain": [
       "True"
      ]
     },
     "execution_count": 23,
     "metadata": {},
     "output_type": "execute_result"
    }
   ],
   "source": [
    "p==l"
   ]
  },
  {
   "cell_type": "code",
   "execution_count": null,
   "id": "a1aae739",
   "metadata": {},
   "outputs": [],
   "source": [
    "p is l"
   ]
  },
  {
   "cell_type": "code",
   "execution_count": 1,
   "id": "80716153",
   "metadata": {},
   "outputs": [
    {
     "name": "stdout",
     "output_type": "stream",
     "text": [
      " enter your age : 20\n",
      " enter your gender : f\n",
      "ok\n"
     ]
    }
   ],
   "source": [
    "age = input(' enter your age : ')\n",
    "Gender = input(' enter your gender : ')\n",
    "age = float (age)\n",
    "if age >= 18 and (Gender =='male' or Gender =='m') :\n",
    "    print('OK')\n",
    "elif age < 18 and (Gender =='male' or Gender =='m'):\n",
    "    print ('you cant do that')\n",
    "elif age >= 18 and (Gender =='female' or Gender =='f'):\n",
    "    print('ok')\n",
    "elif age < 18 and (Gender =='female' or Gender =='f'):\n",
    "    print('you cant do that')\n",
    "else :\n",
    "    print ('undefind gender')"
   ]
  },
  {
   "cell_type": "code",
   "execution_count": 4,
   "id": "2d331b8f",
   "metadata": {},
   "outputs": [
    {
     "name": "stdout",
     "output_type": "stream",
     "text": [
      "enter your 1st number5\n",
      "enter your 2nd number5\n",
      "enter the opratianx\n",
      "MUL =  25.0\n"
     ]
    }
   ],
   "source": [
    "num1 = input('enter your 1st number')\n",
    "num2 = input('enter your 2nd number')\n",
    "op = input('enter the opratian')\n",
    "num1= float (num1)\n",
    "num2= float (num2)\n",
    "if op == '+':\n",
    "    res=num1+num2\n",
    "    print(\"SUM = \", res)\n",
    "elif op =='*' or 'X' or 'x':\n",
    "    res = num1*num2\n",
    "    print(\"MUL = \", res)\n",
    "elif op =='/' or '\\\\':\n",
    "    res=num1/num2\n",
    "    print(\"DVI = \", res)\n",
    "elif op == '-':\n",
    "    res=num1-num2\n",
    "    print(\"SUB = \", res)"
   ]
  },
  {
   "cell_type": "code",
   "execution_count": 7,
   "id": "b3e37a01",
   "metadata": {},
   "outputs": [
    {
     "name": "stdout",
     "output_type": "stream",
     "text": [
      "3\n",
      "('hassan', 'ali', 'waled')\n",
      "waled\n"
     ]
    },
    {
     "data": {
      "text/plain": [
       "<function list.index(value, start=0, stop=9223372036854775807, /)>"
      ]
     },
     "execution_count": 7,
     "metadata": {},
     "output_type": "execute_result"
    }
   ],
   "source": [
    "namesT = ('hassan' , 'ali' , 'waled')\n",
    "ages =['20' , '30' , '40']\n",
    "print (len(namesT))\n",
    "print(namesT)\n",
    "print(max(namesT))\n",
    "ages.index"
   ]
  },
  {
   "cell_type": "code",
   "execution_count": 12,
   "id": "da168333",
   "metadata": {},
   "outputs": [],
   "source": [
    "ages = list(ages)"
   ]
  },
  {
   "cell_type": "code",
   "execution_count": 13,
   "id": "1bfc1729",
   "metadata": {},
   "outputs": [
    {
     "data": {
      "text/plain": [
       "['20', '30', '40']"
      ]
     },
     "execution_count": 13,
     "metadata": {},
     "output_type": "execute_result"
    }
   ],
   "source": [
    "ages"
   ]
  },
  {
   "cell_type": "code",
   "execution_count": 14,
   "id": "7a06ddf8",
   "metadata": {},
   "outputs": [
    {
     "data": {
      "text/plain": [
       "list"
      ]
     },
     "execution_count": 14,
     "metadata": {},
     "output_type": "execute_result"
    }
   ],
   "source": [
    "type(ages)"
   ]
  },
  {
   "cell_type": "code",
   "execution_count": 15,
   "id": "4514059d",
   "metadata": {},
   "outputs": [],
   "source": [
    "ages.append(90)"
   ]
  },
  {
   "cell_type": "code",
   "execution_count": 16,
   "id": "e1bfdcea",
   "metadata": {},
   "outputs": [],
   "source": [
    "ages = tuple(ages)"
   ]
  },
  {
   "cell_type": "code",
   "execution_count": 17,
   "id": "6e8310b2",
   "metadata": {},
   "outputs": [
    {
     "data": {
      "text/plain": [
       "('20', '30', '40', 90)"
      ]
     },
     "execution_count": 17,
     "metadata": {},
     "output_type": "execute_result"
    }
   ],
   "source": [
    "ages"
   ]
  },
  {
   "cell_type": "code",
   "execution_count": 18,
   "id": "5bfae031",
   "metadata": {},
   "outputs": [
    {
     "data": {
      "text/plain": [
       "tuple"
      ]
     },
     "execution_count": 18,
     "metadata": {},
     "output_type": "execute_result"
    }
   ],
   "source": [
    "type(ages)"
   ]
  },
  {
   "cell_type": "code",
   "execution_count": 19,
   "id": "415849eb",
   "metadata": {},
   "outputs": [],
   "source": [
    "list1 = { 'name' , 'gender' , 'age'}"
   ]
  },
  {
   "cell_type": "code",
   "execution_count": 21,
   "id": "45481155",
   "metadata": {},
   "outputs": [],
   "source": [
    "dic1 =dict.fromkeys(list1)"
   ]
  },
  {
   "cell_type": "code",
   "execution_count": 22,
   "id": "37c8e70e",
   "metadata": {},
   "outputs": [
    {
     "data": {
      "text/plain": [
       "{'age': None, 'gender': None, 'name': None}"
      ]
     },
     "execution_count": 22,
     "metadata": {},
     "output_type": "execute_result"
    }
   ],
   "source": [
    "dic1"
   ]
  },
  {
   "cell_type": "code",
   "execution_count": 15,
   "id": "13302f95",
   "metadata": {},
   "outputs": [
    {
     "name": "stdout",
     "output_type": "stream",
     "text": [
      " enter your name hassan\n",
      "w\n",
      "e\n",
      "l\n",
      "c\n",
      "o\n",
      "m\n",
      "e\n",
      " \n",
      "M\n",
      "R\n",
      " \n",
      "h\n",
      "a\n",
      "s\n",
      "s\n",
      "a\n",
      "n\n",
      " \n",
      "p\n",
      "y\n",
      "t\n",
      "h\n",
      "o\n",
      "n\n",
      " \n",
      "3\n"
     ]
    }
   ],
   "source": [
    "name = input (' enter your name ')\n",
    "number= 3\n",
    "masge = 'welcome MR %s python %d' % (name , number)\n",
    "for s in range(len(masge)):\n",
    "    print(masge[s])"
   ]
  },
  {
   "cell_type": "code",
   "execution_count": 14,
   "id": "cec38799",
   "metadata": {},
   "outputs": [
    {
     "name": "stdout",
     "output_type": "stream",
     "text": [
      "w\n",
      "l\n",
      "c\n",
      "o\n",
      "m\n",
      "e\n",
      " \n",
      "t\n",
      "o\n",
      " \n",
      "p\n",
      "y\n",
      "t\n",
      "h\n",
      "o\n",
      "n\n"
     ]
    }
   ],
   "source": [
    "msg = ('wlcome to python')\n",
    "for s in range(len(msg)):\n",
    "    print(msg[s])"
   ]
  },
  {
   "cell_type": "code",
   "execution_count": 18,
   "id": "952449b3",
   "metadata": {},
   "outputs": [
    {
     "name": "stdout",
     "output_type": "stream",
     "text": [
      "name , hassan\n",
      "gender , male\n",
      "age , 21\n"
     ]
    }
   ],
   "source": [
    "dic2 = {'name' : 'hassan','gender' : 'male' , 'age' : 21}\n",
    "for key , value in dic2.items():\n",
    "    print (key,\",\",value )"
   ]
  },
  {
   "cell_type": "code",
   "execution_count": 1,
   "id": "0343b48f",
   "metadata": {},
   "outputs": [
    {
     "name": "stdout",
     "output_type": "stream",
     "text": [
      "enter a number:2\n",
      "continue\n",
      "enter a number:0\n",
      "the end\n"
     ]
    }
   ],
   "source": [
    "num = input('enter a number:')\n",
    "while num !='0':\n",
    "    print ('continue')\n",
    "    num = input('enter a number:')\n",
    "print ('the end')"
   ]
  },
  {
   "cell_type": "code",
   "execution_count": 5,
   "id": "9c0d7553",
   "metadata": {},
   "outputs": [
    {
     "name": "stdout",
     "output_type": "stream",
     "text": [
      "* * * * * "
     ]
    }
   ],
   "source": [
    "for i in range(0,5):\n",
    "    print('*',end=' ')"
   ]
  },
  {
   "cell_type": "code",
   "execution_count": 10,
   "id": "f7d3dfb5",
   "metadata": {},
   "outputs": [
    {
     "name": "stdout",
     "output_type": "stream",
     "text": [
      "* * * * * \n",
      "\n",
      "* * * * * \n",
      "\n"
     ]
    }
   ],
   "source": [
    "for line in range (2):\n",
    "    for i in range(0,5):\n",
    "        print('*' ,end = ' ' )\n",
    "    print ('\\n')"
   ]
  },
  {
   "cell_type": "code",
   "execution_count": 17,
   "id": "07fe72e5",
   "metadata": {},
   "outputs": [
    {
     "name": "stdout",
     "output_type": "stream",
     "text": [
      "h\n",
      "s\n",
      "s\n",
      "n\n"
     ]
    }
   ],
   "source": [
    "word = 'hassan'\n",
    "for g in word :\n",
    "    if g == 'a':\n",
    "        continue\n",
    "    print(g)"
   ]
  },
  {
   "cell_type": "code",
   "execution_count": 3,
   "id": "b8584d19",
   "metadata": {},
   "outputs": [],
   "source": [
    "def hassan(row = 1 , col =1):\n",
    "    for line in range(row):\n",
    "        for i in range(col):\n",
    "            print ('*', end = ' ')\n",
    "        print('\\n')"
   ]
  },
  {
   "cell_type": "code",
   "execution_count": 4,
   "id": "605e83e1",
   "metadata": {},
   "outputs": [
    {
     "name": "stdout",
     "output_type": "stream",
     "text": [
      "* \n",
      "\n",
      "welcome to the python \n",
      "\n",
      "* \n",
      "\n"
     ]
    }
   ],
   "source": [
    "hassan()\n",
    "print ('welcome to the python \\n')\n",
    "hassan()"
   ]
  },
  {
   "cell_type": "code",
   "execution_count": 17,
   "id": "59feb556",
   "metadata": {},
   "outputs": [
    {
     "name": "stdout",
     "output_type": "stream",
     "text": [
      "values inside the function : [1, 2, 3, 4]\n",
      "valus outside the function [10, 20, 30]\n"
     ]
    }
   ],
   "source": [
    "def change(x):\n",
    "    \"pla pla pla\"\n",
    "    x = [1,2,3,4]\n",
    "    print(\"values inside the function :\", x)\n",
    "    \n",
    "mylist=[ 10 , 20 , 30];\n",
    "change(mylist);\n",
    "print(\"valus outside the function\" , mylist)   "
   ]
  },
  {
   "cell_type": "code",
   "execution_count": 14,
   "id": "acf7adeb",
   "metadata": {},
   "outputs": [
    {
     "name": "stdout",
     "output_type": "stream",
     "text": [
      "outside the local  30\n",
      "print the global total 30\n"
     ]
    }
   ],
   "source": [
    "total = 0\n",
    "\n",
    "def sub( num1 , num2):\n",
    "    global total\n",
    "    total= num1 - num2\n",
    "    print(\"outside the local \" , total)\n",
    "    \n",
    "sub(40,10)\n",
    "print(\"print the global total\" , total)"
   ]
  },
  {
   "cell_type": "code",
   "execution_count": 18,
   "id": "e4a59605",
   "metadata": {},
   "outputs": [],
   "source": [
    "totalo = 0\n",
    "\n",
    "def subb( num1 , num2):\n",
    "    total= num1 - num2\n",
    "    print(\"outside the local \" , total)\n",
    "    return(total)\n",
    "    \n",
    "def summ( num1 , num2):\n",
    "    total= num1 + num2\n",
    "    print(\"outside the local \" , total)\n",
    "    return(total)"
   ]
  },
  {
   "cell_type": "code",
   "execution_count": 19,
   "id": "491af94a",
   "metadata": {},
   "outputs": [
    {
     "name": "stdout",
     "output_type": "stream",
     "text": [
      "outside the local  30\n",
      "outside the local  -10\n",
      "print the global total  30\n",
      "print the global summ  30\n",
      "print the global sub  <function sub at 0x000001E3ED918550>\n"
     ]
    }
   ],
   "source": [
    "summ = summ (10,20)\n",
    "subb = subb(10,20)\n",
    "print(\"print the global total \",total)\n",
    "print(\"print the global summ \",summ)\n",
    "print(\"print the global sub \",sub)"
   ]
  },
  {
   "cell_type": "code",
   "execution_count": 11,
   "id": "8e38cf23",
   "metadata": {},
   "outputs": [
    {
     "name": "stdout",
     "output_type": "stream",
     "text": [
      "enter the firest number :10\n",
      "enter the sacend number :20\n",
      "enter the theerd number :30\n",
      "max =  30\n"
     ]
    }
   ],
   "source": [
    "def max_two_numbers(num1,num2) :\n",
    "    if num1 > num2:\n",
    "        return (num1)\n",
    "    else :\n",
    "        return (num2)\n",
    "        \n",
    "    \n",
    "def max_three_numbers (num1,num2,num3):\n",
    "     m = max_two_numbers(num1,num2)\n",
    "     fin = max_two_numbers(m,num3)\n",
    "     return(fin)\n",
    "    \n",
    "num1 = input('enter the firest number :')\n",
    "num2 = input('enter the sacend number :')\n",
    "num3 = input('enter the theerd number :')\n",
    "res = max_three_numbers(num1,num2,num3)\n",
    "print('max = ',res)"
   ]
  },
  {
   "cell_type": "code",
   "execution_count": 14,
   "id": "f13c94d0",
   "metadata": {},
   "outputs": [
    {
     "name": "stdout",
     "output_type": "stream",
     "text": [
      "[1, 85, 4, 894, 51, 23, 186, 123, 12, 56, 7, 8, 456, 5, 9]\n"
     ]
    }
   ],
   "source": [
    "def uniquelist(nonuniquelist):\n",
    "    res = []\n",
    "    for n in nonuniquelist :\n",
    "        if n not in res :\n",
    "            res.append(n)\n",
    "    return(res)\n",
    "\n",
    "numbers = [1,1,1,85,4,894,51,23,186,4,123,1,1,12,56,7,8,456,1,5,5,9,9,5]\n",
    "hassan = uniquelist(numbers)\n",
    "print(hassan)"
   ]
  },
  {
   "cell_type": "code",
   "execution_count": null,
   "id": "2b56603c",
   "metadata": {},
   "outputs": [],
   "source": []
  }
 ],
 "metadata": {
  "kernelspec": {
   "display_name": "Python 3 (ipykernel)",
   "language": "python",
   "name": "python3"
  },
  "language_info": {
   "codemirror_mode": {
    "name": "ipython",
    "version": 3
   },
   "file_extension": ".py",
   "mimetype": "text/x-python",
   "name": "python",
   "nbconvert_exporter": "python",
   "pygments_lexer": "ipython3",
   "version": "3.9.7"
  }
 },
 "nbformat": 4,
 "nbformat_minor": 5
}
