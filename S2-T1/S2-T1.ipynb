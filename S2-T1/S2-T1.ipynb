{
 "cells": [
  {
   "cell_type": "markdown",
   "id": "93d26112",
   "metadata": {},
   "source": [
    "# q1\n",
    "\n",
    "### Given an integer, n , perform the following conditional actions:\n",
    "\n",
    "* If n is odd, print Weird\n",
    "* If n is even and in the inclusive range of  to , print Not Weird\n",
    "* If n is even and in the inclusive range of  to , print Weird\n",
    "* If n is even and greater than , print Not Weird\n",
    "\n"
   ]
  },
  {
   "cell_type": "code",
   "execution_count": 4,
   "id": "e544068b",
   "metadata": {},
   "outputs": [
    {
     "name": "stdout",
     "output_type": "stream",
     "text": [
      "24\n",
      "Not Weird\n"
     ]
    }
   ],
   "source": [
    "\n",
    "\n",
    "\n",
    "import math\n",
    "import os\n",
    "import random\n",
    "import re\n",
    "import sys\n",
    "\n",
    "\n",
    "n = int(input().strip())\n",
    "\n",
    "if n % 2 != 0:\n",
    "    print ('Weird')\n",
    "else:\n",
    "    if n >= 2 and n <= 5:\n",
    "        print ('Not Weird')\n",
    "    elif n >= 6 and n <= 20:\n",
    "        print ('Weird')\n",
    "    elif n > 20 :\n",
    "        print('Not Weird')"
   ]
  },
  {
   "cell_type": "markdown",
   "id": "60f505b5",
   "metadata": {},
   "source": [
    "# q2\n",
    "\n",
    "### The provided code stub reads two integers from STDIN,a  and . b Add code to print three lines where:\n",
    "\n",
    "* The first line contains the sum of the two numbers.\n",
    "* The second line contains the difference of the two numbers (first - second).\n",
    "* The third line contains the product of the two numbers."
   ]
  },
  {
   "cell_type": "code",
   "execution_count": 1,
   "id": "96d19bda",
   "metadata": {},
   "outputs": [
    {
     "name": "stdout",
     "output_type": "stream",
     "text": [
      "10\n",
      "10\n",
      "20\n",
      "0\n",
      "100\n"
     ]
    }
   ],
   "source": [
    "   if __name__ == '__main__':\n",
    "    a = int(input())\n",
    "    b = int(input())\n",
    "\n",
    "    print(a + b)\n",
    "    print(a - b)\n",
    "    print(a * b)"
   ]
  },
  {
   "cell_type": "markdown",
   "id": "fe76533e",
   "metadata": {},
   "source": [
    "# q3\n",
    "\n",
    "* The provided code stub reads two integers, a and ,b from STDIN.\n",
    "\n",
    "* Add logic to print two lines. The first line should contain the result of integer division, a //b . The second line should  contain the result of float division, a /b .\n",
    "\n",
    "* No rounding or formatting is necessary."
   ]
  },
  {
   "cell_type": "code",
   "execution_count": 6,
   "id": "aae0f154",
   "metadata": {},
   "outputs": [
    {
     "name": "stdout",
     "output_type": "stream",
     "text": [
      "10\n",
      "10\n",
      "1\n",
      "1.0\n"
     ]
    }
   ],
   "source": [
    "if __name__ == '__main__':\n",
    "    a = int(input())\n",
    "    b = int(input())\n",
    "    print (a//b)\n",
    "    print (a/b)"
   ]
  },
  {
   "cell_type": "markdown",
   "id": "f055f60a",
   "metadata": {},
   "source": [
    "# q4\n",
    "* The provided code stub reads and integer,n , from STDIN. For all non-negative integers i < n, print isquare i square."
   ]
  },
  {
   "cell_type": "code",
   "execution_count": 7,
   "id": "27a4c562",
   "metadata": {},
   "outputs": [
    {
     "name": "stdout",
     "output_type": "stream",
     "text": [
      "10\n",
      "0\n",
      "1\n",
      "4\n",
      "9\n",
      "16\n",
      "25\n",
      "36\n",
      "49\n",
      "64\n",
      "81\n"
     ]
    }
   ],
   "source": [
    "if __name__ == '__main__':\n",
    "    n = int(input())\n",
    "    for i in range(n):\n",
    "        print(i*i)"
   ]
  },
  {
   "cell_type": "markdown",
   "id": "1e446e44",
   "metadata": {},
   "source": [
    "# q5\n",
    "\n",
    "* An extra day is added to the calendar almost every four years as February 29, and the day is called a leap day. It corrects the calendar for the fact that our planet takes approximately 365.25 days to orbit the sun. A leap year contains a leap day.\n",
    "\n",
    "* In the Gregorian calendar, three conditions are used to identify leap years:\n",
    "\n",
    "* The year can be evenly divided by 4, is a leap year, unless:\n",
    "* The year can be evenly divided by 100, it is NOT a leap year, unless:\n",
    "* The year is also evenly divisible by 400. Then it is a leap year.\n",
    "* This means that in the Gregorian calendar, the years 2000 and 2400 are leap years, while 1800, 1900, 2100, 2200, 2300 and 2500 are NOT leap years. Source"
   ]
  },
  {
   "cell_type": "code",
   "execution_count": 42,
   "id": "25ec2036",
   "metadata": {},
   "outputs": [
    {
     "name": "stdout",
     "output_type": "stream",
     "text": [
      "2005\n",
      "False\n"
     ]
    }
   ],
   "source": [
    "def is_leap(year):\n",
    "    leap = False\n",
    "    # Write your logic here\n",
    "    if year % 400 == 0:\n",
    "        return True\n",
    "    if year % 100 == 0:\n",
    "        return False\n",
    "    if year % 4 == 0:\n",
    "        return True\n",
    "    return leap\n",
    "        \n",
    "year = int(input())\n",
    "print(is_leap(year))"
   ]
  },
  {
   "cell_type": "markdown",
   "id": "44e32229",
   "metadata": {},
   "source": [
    "# q5\n",
    "\n",
    "* The included code stub will read an integer,n , from STDIN.\n",
    "\n",
    "* Without using any string methods, try to print the following:"
   ]
  },
  {
   "cell_type": "code",
   "execution_count": 43,
   "id": "d4f678c5",
   "metadata": {},
   "outputs": [
    {
     "name": "stdout",
     "output_type": "stream",
     "text": [
      "5\n",
      "12345"
     ]
    }
   ],
   "source": [
    "if __name__ == '__main__':\n",
    "    n = int(input())\n",
    "    \n",
    "    for i in range(n):\n",
    "        print(i+1,end='')"
   ]
  },
  {
   "cell_type": "markdown",
   "id": "e09dc9c9",
   "metadata": {},
   "source": []
  }
 ],
 "metadata": {
  "kernelspec": {
   "display_name": "Python 3 (ipykernel)",
   "language": "python",
   "name": "python3"
  },
  "language_info": {
   "codemirror_mode": {
    "name": "ipython",
    "version": 3
   },
   "file_extension": ".py",
   "mimetype": "text/x-python",
   "name": "python",
   "nbconvert_exporter": "python",
   "pygments_lexer": "ipython3",
   "version": "3.9.7"
  }
 },
 "nbformat": 4,
 "nbformat_minor": 5
}
