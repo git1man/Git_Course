{
 "cells": [
  {
   "cell_type": "code",
   "execution_count": 6,
   "id": "a5da8928",
   "metadata": {},
   "outputs": [],
   "source": [
    "class dog :\n",
    "    numofdogs = 0\n",
    "    def __init__(self, n , col , eyecol , l=1 , w=1):\n",
    "        dog.numofdogs += 1\n",
    "        self.color=col\n",
    "        self.eyecolor = eyecol\n",
    "        self.length = l\n",
    "        self.weight = w\n",
    "        self.name = n\n",
    "    \n",
    "    def run (self) :\n",
    "        print (self.name,'the dog is running now .....')"
   ]
  },
  {
   "cell_type": "code",
   "execution_count": 7,
   "id": "721a79ad",
   "metadata": {},
   "outputs": [],
   "source": [
    "reks = dog(n = 'reks' , col=['black','gray'], eyecol=['green'], l =30 , w=40)\n",
    "lasse = dog(n = 'lessa', col=['gold','gray'],eyecol=['blue'], l =30 , w=40)"
   ]
  },
  {
   "cell_type": "code",
   "execution_count": 10,
   "id": "262fe890",
   "metadata": {},
   "outputs": [
    {
     "name": "stdout",
     "output_type": "stream",
     "text": [
      "reks color ['black', 'gray']\n",
      "reks eye color ['green']\n",
      "reks len 30\n",
      "reks weight 40\n",
      "reks the dog is running now .....\n"
     ]
    }
   ],
   "source": [
    "print ('reks color', reks.color)\n",
    "print ('reks eye color', reks.eyecolor)\n",
    "print('reks len',reks.length)\n",
    "print('reks weight',reks.weight)\n",
    "reks.run()"
   ]
  },
  {
   "cell_type": "code",
   "execution_count": null,
   "id": "95735efc",
   "metadata": {},
   "outputs": [],
   "source": []
  }
 ],
 "metadata": {
  "kernelspec": {
   "display_name": "Python 3 (ipykernel)",
   "language": "python",
   "name": "python3"
  },
  "language_info": {
   "codemirror_mode": {
    "name": "ipython",
    "version": 3
   },
   "file_extension": ".py",
   "mimetype": "text/x-python",
   "name": "python",
   "nbconvert_exporter": "python",
   "pygments_lexer": "ipython3",
   "version": "3.9.7"
  }
 },
 "nbformat": 4,
 "nbformat_minor": 5
}
