{
 "cells": [
  {
   "cell_type": "markdown",
   "id": "54dea698",
   "metadata": {},
   "source": [
    "# َQ1\n",
    "* You are given a string and your task is to swap cases. In other words, convert all lowercase letters to uppercase letters and vice versa."
   ]
  },
  {
   "cell_type": "code",
   "execution_count": 10,
   "id": "e3009947",
   "metadata": {},
   "outputs": [
    {
     "name": "stdout",
     "output_type": "stream",
     "text": [
      "hassan\n",
      "HASSAN\n"
     ]
    }
   ],
   "source": [
    "def swap_case(s):\n",
    "\n",
    "    \n",
    "    Output = '';\n",
    "    for char in s:\n",
    "        if(char.isupper()==True):\n",
    "            Output += (char.lower());\n",
    "        elif(char.islower()==True):\n",
    "            Output += (char.upper());\n",
    "        else:\n",
    "            Output += char;\n",
    "    return Output;\n",
    "    \n",
    "\n",
    "if __name__ == '__main__':\n",
    "    s = input()\n",
    "    result = swap_case(s)\n",
    "    print(result)"
   ]
  },
  {
   "cell_type": "markdown",
   "id": "5b6e22a9",
   "metadata": {},
   "source": [
    "# Q2\n",
    "* In Python, a string can be split on a delimiter.\n",
    "* You are given a string. Split the string on a \" \" (space) delimiter and join using a - hyphen.|"
   ]
  },
  {
   "cell_type": "code",
   "execution_count": 12,
   "id": "288720dd",
   "metadata": {},
   "outputs": [
    {
     "name": "stdout",
     "output_type": "stream",
     "text": [
      "hassan abd elmoniem\n",
      "hassan-abd-elmoniem\n"
     ]
    }
   ],
   "source": [
    "def split_and_join(line):\n",
    "    # write your code here\n",
    "    line=line.split(' ')\n",
    "    line='-'.join(line)\n",
    "    return line\n",
    "if __name__ == '__main__':\n",
    "    line = input()\n",
    "    result = split_and_join(line)\n",
    "    print(result)"
   ]
  },
  {
   "cell_type": "markdown",
   "id": "8d8d9218",
   "metadata": {},
   "source": [
    "# Q3\n",
    "* You are given the firstname and lastname of a person on two different lines. Your task is to read them and print the following:\n",
    "* Complete the print_full_name function in the editor below.\n",
    "* print_full_name has the following parameters:"
   ]
  },
  {
   "cell_type": "code",
   "execution_count": 3,
   "id": "3f60c9c3",
   "metadata": {},
   "outputs": [
    {
     "name": "stdout",
     "output_type": "stream",
     "text": [
      "hassan\n",
      "abd elmoniem\n",
      "Hello hassan abd elmoniem! You just delved into python.\n"
     ]
    }
   ],
   "source": [
    "def print_full_name(first, last):\n",
    "    # Write your code here\n",
    "     last +=\"!\"\n",
    "     print(\"Hello\",first,last,\"You just delved into python.\");\n",
    "\n",
    "if __name__ == '__main__':\n",
    "    first_name = input()\n",
    "    last_name = input()\n",
    "    print_full_name(first_name, last_name)"
   ]
  },
  {
   "cell_type": "markdown",
   "id": "4440f48f",
   "metadata": {},
   "source": [
    "# Q4\n",
    "* Read a given string, change the character at a given index and then print the modified string.\n",
    "  Function Description\n",
    "\n",
    "* Complete the mutate_string function in the editor below.\n",
    "\n",
    "* mutate_string has the following parameters:\n",
    "\n",
    "* string string: the string to change\n",
    "* int position: the index to insert the character at\n",
    "* string character: the character to insert"
   ]
  },
  {
   "cell_type": "code",
   "execution_count": 6,
   "id": "1733f10b",
   "metadata": {},
   "outputs": [
    {
     "name": "stdout",
     "output_type": "stream",
     "text": [
      "hassan\n",
      "3 h\n",
      "hashan\n"
     ]
    }
   ],
   "source": [
    "def mutate_string(string, position, character):\n",
    "    \n",
    "    l = list(string)\n",
    "    l[position] = character;\n",
    "    string = ''.join(l);\n",
    "    return string\n",
    "    \n",
    "if __name__ == '__main__':\n",
    "    s = input()\n",
    "    i, c = input().split()\n",
    "    s_new = mutate_string(s, int(i), c)\n",
    "    print(s_new)"
   ]
  },
  {
   "cell_type": "markdown",
   "id": "65d97960",
   "metadata": {},
   "source": [
    "# Q5\n",
    "* In this challenge, the user enters a string and a substring. You have to print the number of times that the substring occurs in the given string. String traversal will take place from left to right, not from right to left."
   ]
  },
  {
   "cell_type": "code",
   "execution_count": 2,
   "id": "d2ecaad0",
   "metadata": {},
   "outputs": [
    {
     "name": "stdout",
     "output_type": "stream",
     "text": [
      "ABCDCDC\n",
      "CDC\n",
      "2\n"
     ]
    }
   ],
   "source": [
    "def count_substring(string, sub_string):\n",
    "    count = 0\n",
    "    for i in range(len(string)-len(sub_string)+1):\n",
    "        if (string[i : i+len(sub_string)]== sub_string):\n",
    "            count+=1\n",
    "    return count\n",
    "\n",
    "if __name__ == '__main__':\n",
    "    string = input().strip()\n",
    "    sub_string = input().strip()\n",
    "    \n",
    "    count = count_substring(string, sub_string)\n",
    "    print(count)"
   ]
  },
  {
   "cell_type": "markdown",
   "id": "d0043e74",
   "metadata": {},
   "source": [
    "# Q6\n",
    "* You are given a string s.\n",
    "* Your task is to find out if the string s contains: alphanumeric characters, alphabetical characters, digits, lowercase and    uppercase characters."
   ]
  },
  {
   "cell_type": "code",
   "execution_count": 20,
   "id": "da72daee",
   "metadata": {},
   "outputs": [
    {
     "name": "stdout",
     "output_type": "stream",
     "text": [
      "hassan\n",
      "True\n",
      "True\n",
      "False\n",
      "True\n",
      "False\n"
     ]
    }
   ],
   "source": [
    "if __name__ == '__main__':\n",
    "    s = input()\n",
    "    print(any(c.isalnum() for c in s))\n",
    "    print(any(c.isalpha() for c in s))\n",
    "    print(any(c.isdigit() for c in s))\n",
    "    print(any(c.islower() for c in s))\n",
    "    print(any(c.isupper() for c in s))"
   ]
  },
  {
   "cell_type": "markdown",
   "id": "892bcdca",
   "metadata": {},
   "source": [
    "# Q7\n",
    "* Python has built-in string validation methods for basic data. It can check if a string is composed of alphabetical characters, alphanumeric characters, digits, etc.\n",
    "\n",
    "#### [str.isalnum()](https://docs.python.org/2/library/stdtypes.html#str.isalnum)\n",
    "* This method checks if all the characters of a string are alphanumeric (a-z, A-Z and 0-9)."
   ]
  },
  {
   "cell_type": "code",
   "execution_count": 30,
   "id": "d6789d1c",
   "metadata": {},
   "outputs": [
    {
     "name": "stdout",
     "output_type": "stream",
     "text": [
      "Hassan8899\n",
      "True\n",
      "True\n",
      "True\n",
      "True\n",
      "True\n"
     ]
    }
   ],
   "source": [
    "if __name__ == '__main__':\n",
    "    s = input()\n",
    "    print(any(a.isalnum() for a in s))\n",
    "    print(any(a.isalpha() for a in s))\n",
    "    print(any(a.isdigit() for a in s))\n",
    "    print(any(a.islower() for a in s))\n",
    "    print(any(a.isupper() for a in s))"
   ]
  },
  {
   "cell_type": "markdown",
   "id": "1ac0b0fd",
   "metadata": {},
   "source": [
    "# Q8\n",
    "* In Python, a string of text can be aligned left, right and center.\n",
    "\n",
    "* ljust(width)\n",
    "\n",
    "* This method returns a left aligned string of length width."
   ]
  },
  {
   "cell_type": "code",
   "execution_count": 54,
   "id": "e862b5e5",
   "metadata": {},
   "outputs": [
    {
     "name": "stdout",
     "output_type": "stream",
     "text": [
      "20\n",
      "                   H                   \n",
      "                  HHH                  \n",
      "                 HHHHH                 \n",
      "                HHHHHHH                \n",
      "               HHHHHHHHH               \n",
      "              HHHHHHHHHHH              \n",
      "             HHHHHHHHHHHHH             \n",
      "            HHHHHHHHHHHHHHH            \n",
      "           HHHHHHHHHHHHHHHHH           \n",
      "          HHHHHHHHHHHHHHHHHHH          \n",
      "         HHHHHHHHHHHHHHHHHHHHH         \n",
      "        HHHHHHHHHHHHHHHHHHHHHHH        \n",
      "       HHHHHHHHHHHHHHHHHHHHHHHHH       \n",
      "      HHHHHHHHHHHHHHHHHHHHHHHHHHH      \n",
      "     HHHHHHHHHHHHHHHHHHHHHHHHHHHHH     \n",
      "    HHHHHHHHHHHHHHHHHHHHHHHHHHHHHHH    \n",
      "   HHHHHHHHHHHHHHHHHHHHHHHHHHHHHHHHH   \n",
      "  HHHHHHHHHHHHHHHHHHHHHHHHHHHHHHHHHHH  \n",
      " HHHHHHHHHHHHHHHHHHHHHHHHHHHHHHHHHHHHH \n",
      "HHHHHHHHHHHHHHHHHHHHHHHHHHHHHHHHHHHHHHH\n",
      "          HHHHHHHHHHHHHHHHHHHH                                                            HHHHHHHHHHHHHHHHHHHH                                                  \n",
      "          HHHHHHHHHHHHHHHHHHHH                                                            HHHHHHHHHHHHHHHHHHHH                                                  \n",
      "          HHHHHHHHHHHHHHHHHHHH                                                            HHHHHHHHHHHHHHHHHHHH                                                  \n",
      "          HHHHHHHHHHHHHHHHHHHH                                                            HHHHHHHHHHHHHHHHHHHH                                                  \n",
      "          HHHHHHHHHHHHHHHHHHHH                                                            HHHHHHHHHHHHHHHHHHHH                                                  \n",
      "          HHHHHHHHHHHHHHHHHHHH                                                            HHHHHHHHHHHHHHHHHHHH                                                  \n",
      "          HHHHHHHHHHHHHHHHHHHH                                                            HHHHHHHHHHHHHHHHHHHH                                                  \n",
      "          HHHHHHHHHHHHHHHHHHHH                                                            HHHHHHHHHHHHHHHHHHHH                                                  \n",
      "          HHHHHHHHHHHHHHHHHHHH                                                            HHHHHHHHHHHHHHHHHHHH                                                  \n",
      "          HHHHHHHHHHHHHHHHHHHH                                                            HHHHHHHHHHHHHHHHHHHH                                                  \n",
      "          HHHHHHHHHHHHHHHHHHHH                                                            HHHHHHHHHHHHHHHHHHHH                                                  \n",
      "          HHHHHHHHHHHHHHHHHHHH                                                            HHHHHHHHHHHHHHHHHHHH                                                  \n",
      "          HHHHHHHHHHHHHHHHHHHH                                                            HHHHHHHHHHHHHHHHHHHH                                                  \n",
      "          HHHHHHHHHHHHHHHHHHHH                                                            HHHHHHHHHHHHHHHHHHHH                                                  \n",
      "          HHHHHHHHHHHHHHHHHHHH                                                            HHHHHHHHHHHHHHHHHHHH                                                  \n",
      "          HHHHHHHHHHHHHHHHHHHH                                                            HHHHHHHHHHHHHHHHHHHH                                                  \n",
      "          HHHHHHHHHHHHHHHHHHHH                                                            HHHHHHHHHHHHHHHHHHHH                                                  \n",
      "          HHHHHHHHHHHHHHHHHHHH                                                            HHHHHHHHHHHHHHHHHHHH                                                  \n",
      "          HHHHHHHHHHHHHHHHHHHH                                                            HHHHHHHHHHHHHHHHHHHH                                                  \n",
      "          HHHHHHHHHHHHHHHHHHHH                                                            HHHHHHHHHHHHHHHHHHHH                                                  \n",
      "          HHHHHHHHHHHHHHHHHHHH                                                            HHHHHHHHHHHHHHHHHHHH                                                  \n",
      "          HHHHHHHHHHHHHHHHHHHHHHHHHHHHHHHHHHHHHHHHHHHHHHHHHHHHHHHHHHHHHHHHHHHHHHHHHHHHHHHHHHHHHHHHHHHHHHHHHHHH          \n",
      "          HHHHHHHHHHHHHHHHHHHHHHHHHHHHHHHHHHHHHHHHHHHHHHHHHHHHHHHHHHHHHHHHHHHHHHHHHHHHHHHHHHHHHHHHHHHHHHHHHHHH          \n",
      "          HHHHHHHHHHHHHHHHHHHHHHHHHHHHHHHHHHHHHHHHHHHHHHHHHHHHHHHHHHHHHHHHHHHHHHHHHHHHHHHHHHHHHHHHHHHHHHHHHHHH          \n",
      "          HHHHHHHHHHHHHHHHHHHHHHHHHHHHHHHHHHHHHHHHHHHHHHHHHHHHHHHHHHHHHHHHHHHHHHHHHHHHHHHHHHHHHHHHHHHHHHHHHHHH          \n",
      "          HHHHHHHHHHHHHHHHHHHHHHHHHHHHHHHHHHHHHHHHHHHHHHHHHHHHHHHHHHHHHHHHHHHHHHHHHHHHHHHHHHHHHHHHHHHHHHHHHHHH          \n",
      "          HHHHHHHHHHHHHHHHHHHHHHHHHHHHHHHHHHHHHHHHHHHHHHHHHHHHHHHHHHHHHHHHHHHHHHHHHHHHHHHHHHHHHHHHHHHHHHHHHHHH          \n",
      "          HHHHHHHHHHHHHHHHHHHHHHHHHHHHHHHHHHHHHHHHHHHHHHHHHHHHHHHHHHHHHHHHHHHHHHHHHHHHHHHHHHHHHHHHHHHHHHHHHHHH          \n",
      "          HHHHHHHHHHHHHHHHHHHHHHHHHHHHHHHHHHHHHHHHHHHHHHHHHHHHHHHHHHHHHHHHHHHHHHHHHHHHHHHHHHHHHHHHHHHHHHHHHHHH          \n",
      "          HHHHHHHHHHHHHHHHHHHHHHHHHHHHHHHHHHHHHHHHHHHHHHHHHHHHHHHHHHHHHHHHHHHHHHHHHHHHHHHHHHHHHHHHHHHHHHHHHHHH          \n",
      "          HHHHHHHHHHHHHHHHHHHHHHHHHHHHHHHHHHHHHHHHHHHHHHHHHHHHHHHHHHHHHHHHHHHHHHHHHHHHHHHHHHHHHHHHHHHHHHHHHHHH          \n",
      "          HHHHHHHHHHHHHHHHHHHH                                                            HHHHHHHHHHHHHHHHHHHH                                                  \n",
      "          HHHHHHHHHHHHHHHHHHHH                                                            HHHHHHHHHHHHHHHHHHHH                                                  \n",
      "          HHHHHHHHHHHHHHHHHHHH                                                            HHHHHHHHHHHHHHHHHHHH                                                  \n",
      "          HHHHHHHHHHHHHHHHHHHH                                                            HHHHHHHHHHHHHHHHHHHH                                                  \n",
      "          HHHHHHHHHHHHHHHHHHHH                                                            HHHHHHHHHHHHHHHHHHHH                                                  \n",
      "          HHHHHHHHHHHHHHHHHHHH                                                            HHHHHHHHHHHHHHHHHHHH                                                  \n",
      "          HHHHHHHHHHHHHHHHHHHH                                                            HHHHHHHHHHHHHHHHHHHH                                                  \n",
      "          HHHHHHHHHHHHHHHHHHHH                                                            HHHHHHHHHHHHHHHHHHHH                                                  \n",
      "          HHHHHHHHHHHHHHHHHHHH                                                            HHHHHHHHHHHHHHHHHHHH                                                  \n",
      "          HHHHHHHHHHHHHHHHHHHH                                                            HHHHHHHHHHHHHHHHHHHH                                                  \n",
      "          HHHHHHHHHHHHHHHHHHHH                                                            HHHHHHHHHHHHHHHHHHHH                                                  \n",
      "          HHHHHHHHHHHHHHHHHHHH                                                            HHHHHHHHHHHHHHHHHHHH                                                  \n",
      "          HHHHHHHHHHHHHHHHHHHH                                                            HHHHHHHHHHHHHHHHHHHH                                                  \n",
      "          HHHHHHHHHHHHHHHHHHHH                                                            HHHHHHHHHHHHHHHHHHHH                                                  \n",
      "          HHHHHHHHHHHHHHHHHHHH                                                            HHHHHHHHHHHHHHHHHHHH                                                  \n",
      "          HHHHHHHHHHHHHHHHHHHH                                                            HHHHHHHHHHHHHHHHHHHH                                                  \n",
      "          HHHHHHHHHHHHHHHHHHHH                                                            HHHHHHHHHHHHHHHHHHHH                                                  \n",
      "          HHHHHHHHHHHHHHHHHHHH                                                            HHHHHHHHHHHHHHHHHHHH                                                  \n",
      "          HHHHHHHHHHHHHHHHHHHH                                                            HHHHHHHHHHHHHHHHHHHH                                                  \n",
      "          HHHHHHHHHHHHHHHHHHHH                                                            HHHHHHHHHHHHHHHHHHHH                                                  \n",
      "          HHHHHHHHHHHHHHHHHHHH                                                            HHHHHHHHHHHHHHHHHHHH                                                  \n",
      "                                                                                HHHHHHHHHHHHHHHHHHHHHHHHHHHHHHHHHHHHHHH \n",
      "                                                                                 HHHHHHHHHHHHHHHHHHHHHHHHHHHHHHHHHHHHH  \n",
      "                                                                                  HHHHHHHHHHHHHHHHHHHHHHHHHHHHHHHHHHH   \n",
      "                                                                                   HHHHHHHHHHHHHHHHHHHHHHHHHHHHHHHHH    \n",
      "                                                                                    HHHHHHHHHHHHHHHHHHHHHHHHHHHHHHH     \n",
      "                                                                                     HHHHHHHHHHHHHHHHHHHHHHHHHHHHH      \n",
      "                                                                                      HHHHHHHHHHHHHHHHHHHHHHHHHHH       \n",
      "                                                                                       HHHHHHHHHHHHHHHHHHHHHHHHH        \n",
      "                                                                                        HHHHHHHHHHHHHHHHHHHHHHH         \n",
      "                                                                                         HHHHHHHHHHHHHHHHHHHHH          \n",
      "                                                                                          HHHHHHHHHHHHHHHHHHH           \n",
      "                                                                                           HHHHHHHHHHHHHHHHH            \n",
      "                                                                                            HHHHHHHHHHHHHHH             \n",
      "                                                                                             HHHHHHHHHHHHH              \n",
      "                                                                                              HHHHHHHHHHH               \n",
      "                                                                                               HHHHHHHHH                \n",
      "                                                                                                HHHHHHH                 \n",
      "                                                                                                 HHHHH                  \n",
      "                                                                                                  HHH                   \n",
      "                                                                                                   H                    \n"
     ]
    }
   ],
   "source": [
    "#Replace all ______ with rjust, ljust or center. \n",
    "\n",
    "thickness = int(input()) #This must be an odd number\n",
    "c = 'H'\n",
    "\n",
    "#Top Cone\n",
    "for i in range(thickness):\n",
    "    print((c*i).rjust(thickness-1)+c+(c*i).ljust(thickness-1))\n",
    "\n",
    "#Top Pillars\n",
    "for i in range(thickness+1):\n",
    "    print((c*thickness).center(thickness*2)+(c*thickness).center(thickness*6))\n",
    "\n",
    "#Middle Belt\n",
    "for i in range((thickness+1)//2):\n",
    "    print((c*thickness*5).center(thickness*6))    \n",
    "\n",
    "#Bottom Pillars\n",
    "for i in range(thickness+1):\n",
    "    print((c*thickness).center(thickness*2)+(c*thickness).center(thickness*6))    \n",
    "\n",
    "#Bottom Cone\n",
    "for i in range(thickness):\n",
    "    print(((c*(thickness-i-1)).rjust(thickness)+c+(c*(thickness-i-1)).ljust(thickness)).rjust(thickness*6))"
   ]
  },
  {
   "cell_type": "markdown",
   "id": "4193e93f",
   "metadata": {},
   "source": [
    "# Q8\n",
    "* You are given a string s and width .\n",
    "* Your task is to wrap the string into a paragraph of width w.\n",
    "\n",
    "### Function Description\n",
    "\n",
    "* Complete the wrap function in the editor below.\n",
    "\n",
    "* wrap has the following parameters:\n",
    "\n",
    "* string string: a long string\n",
    "  int max_width: the width to wrap to w"
   ]
  },
  {
   "cell_type": "code",
   "execution_count": 1,
   "id": "54e31875",
   "metadata": {},
   "outputs": [
    {
     "name": "stdout",
     "output_type": "stream",
     "text": [
      "hassan\n",
      "4\n",
      "hass\n",
      "an\n"
     ]
    }
   ],
   "source": [
    "import textwrap\n",
    "\n",
    "def wrap(string, max_width):\n",
    "    \n",
    "    return textwrap.fill(string, max_width)\n",
    "\n",
    "if __name__ == '__main__':\n",
    "    string, max_width = input(), int(input())\n",
    "    result = wrap(string, max_width)\n",
    "    print(result)"
   ]
  },
  {
   "cell_type": "markdown",
   "id": "2222a918",
   "metadata": {},
   "source": [
    "# Q9\n",
    "* Mr. Vincent works in a door mat manufacturing company. One day, he designed a new door mat with the following specifications:\n",
    "\n",
    "* Mat size must be n X m.(n is an odd natural number, and m is 3 times n.)\n",
    "* The design should have 'WELCOME' written in the center.\n",
    "* The design pattern should only use |, . and - characters."
   ]
  },
  {
   "cell_type": "code",
   "execution_count": 6,
   "id": "0dee2614",
   "metadata": {},
   "outputs": [
    {
     "name": "stdout",
     "output_type": "stream",
     "text": [
      "10 40\n",
      "------------------.|.-------------------\n",
      "---------------.|..|..|.----------------\n",
      "------------.|..|..|..|..|.-------------\n",
      "---------.|..|..|..|..|..|..|.----------\n",
      "------.|..|..|..|..|..|..|..|..|.-------\n",
      "----------------WELCOME-----------------\n",
      "--------.|..|..|..|..|..|..|..|.--------\n",
      "-----------.|..|..|..|..|..|.-----------\n",
      "--------------.|..|..|..|.--------------\n",
      "-----------------.|..|.-----------------\n",
      "----------------------------------------\n"
     ]
    }
   ],
   "source": [
    "N, M = map(int, input().split())\n",
    "for i in range(1, N, 2):\n",
    "    print(str('.|.' * i).center(M, '-'))\n",
    "print('WELCOME'.center(M, '-'))\n",
    "for i in range(N-2, -1, -2):\n",
    "    print(str('.|.' * i).center(M, '-'))"
   ]
  },
  {
   "cell_type": "markdown",
   "id": "bf82e85a",
   "metadata": {},
   "source": [
    "# Q10\n",
    "*Given an integer,n , print the following values for each integer  from  to int:\n",
    "\n",
    "* Decimal\n",
    "* Octal\n",
    "* Hexadecimal (capitalized)\n",
    "* Binary"
   ]
  },
  {
   "cell_type": "code",
   "execution_count": null,
   "id": "105da4b4",
   "metadata": {},
   "outputs": [],
   "source": [
    "def print_formatted(number):\n",
    "    # your code goes here\n",
    "    width = len(\"{0:b}\".format(number))\n",
    "    \n",
    "    for i in range(1, number + 1):\n",
    "        print(\"{0:{w}d} {0:{w}o} {0:{w}X} {0:{w}b}\".format(i, w = width))\n",
    "\n",
    "if __name__ == '__main__':\n",
    "    n = int(input())\n",
    "    print_formatted(n)"
   ]
  },
  {
   "cell_type": "markdown",
   "id": "351f5473",
   "metadata": {},
   "source": [
    "# Q11\n",
    "* You are given an integer, N . Your task is to print an alphabet rangoli of size N. (Rangoli is a form of Indian folk art based   on creation of patterns.)\n",
    "\n",
    "* Different sizes of alphabet rangoli are shown below:"
   ]
  },
  {
   "cell_type": "code",
   "execution_count": 2,
   "id": "273c750c",
   "metadata": {},
   "outputs": [
    {
     "name": "stdout",
     "output_type": "stream",
     "text": [
      "6\n",
      "----------f----------\n",
      "--------f-e-f--------\n",
      "------f-e-d-e-f------\n",
      "----f-e-d-c-d-e-f----\n",
      "--f-e-d-c-b-c-d-e-f--\n",
      "f-e-d-c-b-a-b-c-d-e-f\n",
      "--f-e-d-c-b-c-d-e-f--\n",
      "----f-e-d-c-d-e-f----\n",
      "------f-e-d-e-f------\n",
      "--------f-e-f--------\n",
      "----------f----------\n"
     ]
    }
   ],
   "source": [
    "def print_rangoli(size):\n",
    "    # your code goes here\n",
    "    width  = size*4-3\n",
    "    string = ''\n",
    "\n",
    "    for i in range(1,size+1):\n",
    "        for j in range(0,i):\n",
    "            string += chr(96+size-j)\n",
    "            if len(string) < width :\n",
    "                string += '-'\n",
    "        for k in range(i-1,0,-1):    \n",
    "            string += chr(97+size-k)\n",
    "            if len(string) < width :\n",
    "                string += '-'\n",
    "        print(string.center(width,'-'))\n",
    "        string = ''\n",
    "\n",
    "    for i in range(size-1,0,-1):\n",
    "        string = ''\n",
    "        for j in range(0,i):\n",
    "            string += chr(96+size-j)\n",
    "            if len(string) < width :\n",
    "                string += '-'\n",
    "        for k in range(i-1,0,-1):\n",
    "            string += chr(97+size-k)\n",
    "            if len(string) < width :\n",
    "                string += '-'\n",
    "        print(string.center(width,'-'))\n",
    "\n",
    "if __name__ == '__main__':\n",
    "    n = int(input())\n",
    "    print_rangoli(n)"
   ]
  },
  {
   "cell_type": "markdown",
   "id": "9e1f76a1",
   "metadata": {},
   "source": [
    "# Q12\n",
    "You are asked to ensure that the first and last names of people begin with a capital letter in their passports. For example, alison heck should be capitalised correctly as Alison Heck.\n"
   ]
  },
  {
   "cell_type": "code",
   "execution_count": 6,
   "id": "a9812fe4",
   "metadata": {},
   "outputs": [
    {
     "ename": "KeyError",
     "evalue": "'OUTPUT_PATH'",
     "output_type": "error",
     "traceback": [
      "\u001b[1;31m---------------------------------------------------------------------------\u001b[0m",
      "\u001b[1;31mKeyError\u001b[0m                                  Traceback (most recent call last)",
      "\u001b[1;32m~\\AppData\\Local\\Temp/ipykernel_9448/1892747789.py\u001b[0m in \u001b[0;36m<module>\u001b[1;34m\u001b[0m\n\u001b[0;32m     18\u001b[0m \u001b[1;33m\u001b[0m\u001b[0m\n\u001b[0;32m     19\u001b[0m \u001b[1;32mif\u001b[0m \u001b[0m__name__\u001b[0m \u001b[1;33m==\u001b[0m \u001b[1;34m'__main__'\u001b[0m\u001b[1;33m:\u001b[0m\u001b[1;33m\u001b[0m\u001b[1;33m\u001b[0m\u001b[0m\n\u001b[1;32m---> 20\u001b[1;33m     \u001b[0mfptr\u001b[0m \u001b[1;33m=\u001b[0m \u001b[0mopen\u001b[0m\u001b[1;33m(\u001b[0m\u001b[0mos\u001b[0m\u001b[1;33m.\u001b[0m\u001b[0menviron\u001b[0m\u001b[1;33m[\u001b[0m\u001b[1;34m'OUTPUT_PATH'\u001b[0m\u001b[1;33m]\u001b[0m\u001b[1;33m,\u001b[0m \u001b[1;34m'w'\u001b[0m\u001b[1;33m)\u001b[0m\u001b[1;33m\u001b[0m\u001b[1;33m\u001b[0m\u001b[0m\n\u001b[0m\u001b[0;32m     21\u001b[0m \u001b[1;33m\u001b[0m\u001b[0m\n\u001b[0;32m     22\u001b[0m     \u001b[0ms\u001b[0m \u001b[1;33m=\u001b[0m \u001b[0minput\u001b[0m\u001b[1;33m(\u001b[0m\u001b[1;33m)\u001b[0m\u001b[1;33m\u001b[0m\u001b[1;33m\u001b[0m\u001b[0m\n",
      "\u001b[1;32m~\\anaconda3\\lib\\os.py\u001b[0m in \u001b[0;36m__getitem__\u001b[1;34m(self, key)\u001b[0m\n\u001b[0;32m    677\u001b[0m         \u001b[1;32mexcept\u001b[0m \u001b[0mKeyError\u001b[0m\u001b[1;33m:\u001b[0m\u001b[1;33m\u001b[0m\u001b[1;33m\u001b[0m\u001b[0m\n\u001b[0;32m    678\u001b[0m             \u001b[1;31m# raise KeyError with the original key value\u001b[0m\u001b[1;33m\u001b[0m\u001b[1;33m\u001b[0m\u001b[0m\n\u001b[1;32m--> 679\u001b[1;33m             \u001b[1;32mraise\u001b[0m \u001b[0mKeyError\u001b[0m\u001b[1;33m(\u001b[0m\u001b[0mkey\u001b[0m\u001b[1;33m)\u001b[0m \u001b[1;32mfrom\u001b[0m \u001b[1;32mNone\u001b[0m\u001b[1;33m\u001b[0m\u001b[1;33m\u001b[0m\u001b[0m\n\u001b[0m\u001b[0;32m    680\u001b[0m         \u001b[1;32mreturn\u001b[0m \u001b[0mself\u001b[0m\u001b[1;33m.\u001b[0m\u001b[0mdecodevalue\u001b[0m\u001b[1;33m(\u001b[0m\u001b[0mvalue\u001b[0m\u001b[1;33m)\u001b[0m\u001b[1;33m\u001b[0m\u001b[1;33m\u001b[0m\u001b[0m\n\u001b[0;32m    681\u001b[0m \u001b[1;33m\u001b[0m\u001b[0m\n",
      "\u001b[1;31mKeyError\u001b[0m: 'OUTPUT_PATH'"
     ]
    }
   ],
   "source": [
    "#!/bin/python3\n",
    "\n",
    "import math\n",
    "import os\n",
    "import random\n",
    "import re\n",
    "import sys\n",
    "import math\n",
    "import os\n",
    "import random\n",
    "import re\n",
    "import sys\n",
    "# Complete the solve function below.\n",
    "def solve(s):\n",
    "    for e in s.split():\n",
    "        s=s.replace(e,e.capitalize())\n",
    "    return s\n",
    "\n",
    "if __name__ == '__main__':\n",
    "    fptr = open(os.environ['OUTPUT_PATH'], 'w')\n",
    "\n",
    "    s = input()\n",
    "\n",
    "    result = solve(s)\n",
    "\n",
    "    fptr.write(result + '\\n')\n",
    "\n",
    "    fptr.close()\n"
   ]
  },
  {
   "cell_type": "markdown",
   "id": "2949ca33",
   "metadata": {},
   "source": [
    "# Q13\n",
    "* Kevin and Stuart want to play the 'The Minion Game'."
   ]
  },
  {
   "cell_type": "code",
   "execution_count": 10,
   "id": "905fc6bf",
   "metadata": {},
   "outputs": [
    {
     "name": "stdout",
     "output_type": "stream",
     "text": [
      "zed\n",
      "Stuart 6\n"
     ]
    }
   ],
   "source": [
    "def minion_game(string):\n",
    "    # your code goes here\n",
    "    player1 = 0;\n",
    "    player2 = 0;\n",
    "    str_len = len(string)\n",
    "    for i in range(str_len):\n",
    "        if s[i] in \"AEIOU\":\n",
    "            player1 += (str_len)-i\n",
    "        else :\n",
    "            player2 += (str_len)-i\n",
    "    \n",
    "    if player1 > player2:\n",
    "        print(\"Kevin\", player1)\n",
    "    elif player1 < player2:\n",
    "        print(\"Stuart\",player2)\n",
    "    elif player1 == player2:\n",
    "        print(\"Draw\")\n",
    "    else :\n",
    "        print(\"Draw\")\n",
    "\n",
    "if __name__ == '__main__':\n",
    "    s = input()\n",
    "    minion_game(s)"
   ]
  },
  {
   "cell_type": "markdown",
   "id": "4389e3ab",
   "metadata": {},
   "source": [
    "# 14\n",
    "#### Consider the following:\n",
    "\n",
    "* A string,S , of length N where s = c0c1...cn-1.\n",
    "* An integer, k , where k is a factor of n."
   ]
  },
  {
   "cell_type": "code",
   "execution_count": 11,
   "id": "809b2dc2",
   "metadata": {},
   "outputs": [
    {
     "name": "stdout",
     "output_type": "stream",
     "text": [
      "hassan\n",
      "4\n",
      "has\n",
      "an\n"
     ]
    }
   ],
   "source": [
    "def merge_the_tools(string, k):\n",
    "    # your code goes here\n",
    "    for i in range(0,len(string), k):\n",
    "        line = string[i:i+k]\n",
    "        new = \"\"\n",
    "        for i in line:\n",
    "            if i not in new:\n",
    "                new+=i\n",
    "        print(new)\n",
    "\n",
    "if __name__ == '__main__':\n",
    "    string, k = input(), int(input())\n",
    "    merge_the_tools(string, k)"
   ]
  },
  {
   "cell_type": "code",
   "execution_count": null,
   "id": "146ffdd3",
   "metadata": {},
   "outputs": [],
   "source": []
  }
 ],
 "metadata": {
  "kernelspec": {
   "display_name": "Python 3 (ipykernel)",
   "language": "python",
   "name": "python3"
  },
  "language_info": {
   "codemirror_mode": {
    "name": "ipython",
    "version": 3
   },
   "file_extension": ".py",
   "mimetype": "text/x-python",
   "name": "python",
   "nbconvert_exporter": "python",
   "pygments_lexer": "ipython3",
   "version": "3.9.7"
  }
 },
 "nbformat": 4,
 "nbformat_minor": 5
}
