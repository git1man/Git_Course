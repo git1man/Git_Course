{
 "cells": [
  {
   "cell_type": "markdown",
   "id": "3318293a",
   "metadata": {},
   "source": [
    "# Q1\n",
    "* Let's learn about list comprehensions! You are given three integers x,y and z representing the dimensions of a cuboid along with an integer . Print a list of all possible coordinates given by  on a 3D grid where the sum of i+j+k is not equal to . Here, . Please use list comprehensions rather than multiple loops, as a learning exercise."
   ]
  },
  {
   "cell_type": "code",
   "execution_count": 8,
   "id": "51d79380",
   "metadata": {},
   "outputs": [
    {
     "name": "stdout",
     "output_type": "stream",
     "text": [
      "1\n",
      "1\n",
      "1\n",
      "1\n",
      "[[0, 0, 0], [0, 1, 1], [1, 0, 1], [1, 1, 0], [1, 1, 1]]\n"
     ]
    }
   ],
   "source": [
    "if __name__ == '__main__':\n",
    "    x = int(input())\n",
    "    y = int(input())\n",
    "    z = int(input())\n",
    "    n = int(input())\n",
    "    res = [\n",
    "        [i,j,k]\n",
    "        for i in range (x+1)\n",
    "        for j in range (y+1)\n",
    "        for k in range (z+1)\n",
    "         if i + j + k !=n\n",
    "        ]\n",
    "    print(res)"
   ]
  },
  {
   "cell_type": "markdown",
   "id": "a7231cf5",
   "metadata": {},
   "source": [
    "# Q2\n",
    "* Given the participants' score sheet for your University Sports Day, you are required to find the runner-up score. You are given  scores.n Store them in a list and find the score of the runner-up."
   ]
  },
  {
   "cell_type": "code",
   "execution_count": null,
   "id": "da207691",
   "metadata": {},
   "outputs": [],
   "source": [
    "if __name__ == '__main__':\n",
    "    n = int(input())\n",
    "    arr = map(int, input().split())\n",
    "    print(sorted(list(set(arr)))[-2])"
   ]
  },
  {
   "cell_type": "markdown",
   "id": "0166d907",
   "metadata": {},
   "source": [
    "# Q3\n",
    "* Given the names and grades for each student in a class of N students, store them in a nested list and print the name(s) of any student(s) having the second lowest grade.\n",
    "\n",
    "* Note: If there are multiple students with the second lowest grade, order their names alphabetically and print each name on a new line."
   ]
  },
  {
   "cell_type": "code",
   "execution_count": null,
   "id": "9fb3ec60",
   "metadata": {},
   "outputs": [],
   "source": [
    "res=[]\n",
    "scorelist=[]\n",
    "if __name__ == '__main__':\n",
    "    for _ in range(int(input())):\n",
    "        name = input()\n",
    "        score = float(input())\n",
    "        res+=[[name,score]]\n",
    "        scorelist+=[score]\n",
    "    m = sorted(list(set(scorelist)))[1]\n",
    "        \n",
    "    for a,b in sorted(res):\n",
    "        if b==m:\n",
    "            print(a)"
   ]
  },
  {
   "cell_type": "markdown",
   "id": "02498b26",
   "metadata": {},
   "source": [
    "# Q4\n",
    "* The provided code stub will read in a dictionary containing key/value pairs of name:[marks] for a list of students. Print the average of the marks array for the student name provided, showing 2 places after the decimal."
   ]
  },
  {
   "cell_type": "code",
   "execution_count": null,
   "id": "3a9e3827",
   "metadata": {},
   "outputs": [],
   "source": [
    "if __name__ == '__main__':\n",
    "    n = int(input())\n",
    "    student_marks = {}\n",
    "    for _ in range(n):\n",
    "        name, *line = input().split()\n",
    "        scores = list(map(float, line))\n",
    "        student_marks[name] = scores\n",
    "    query_name = input()\n",
    "    marks = 0\n",
    "    \n",
    "    for i in student_marks[query_name]:\n",
    "            marks=marks+i\n",
    "    avg=marks/3\n",
    "    print(\"%.2f\"%avg)"
   ]
  },
  {
   "cell_type": "markdown",
   "id": "3f9dfd55",
   "metadata": {},
   "source": [
    "# Q5 \n",
    "## re.findall()\n",
    "* The expression re.findall() returns all the non-overlapping matches of patterns in a string as a list of strings."
   ]
  },
  {
   "cell_type": "code",
   "execution_count": null,
   "id": "9fb68e14",
   "metadata": {},
   "outputs": [],
   "source": []
  },
  {
   "cell_type": "markdown",
   "id": "b5dcf2f9",
   "metadata": {},
   "source": [
    "# Q6\n",
    "* Given an integer, n, and n space-separated integers as input,t create a tuple, n, of those  integers. Then compute and print the result of hash (t) ."
   ]
  },
  {
   "cell_type": "code",
   "execution_count": null,
   "id": "0a0f96a6",
   "metadata": {},
   "outputs": [],
   "source": [
    "if __name__ == '__main__':\n",
    "    n = int(input())\n",
    "    integer_list = map(int, input().split())\n",
    "    t=tuple(integer_list)\n",
    "    print(hash(t))"
   ]
  },
  {
   "cell_type": "code",
   "execution_count": null,
   "id": "ff52d484",
   "metadata": {},
   "outputs": [],
   "source": []
  },
  {
   "cell_type": "code",
   "execution_count": null,
   "id": "d512940f",
   "metadata": {},
   "outputs": [],
   "source": []
  }
 ],
 "metadata": {
  "kernelspec": {
   "display_name": "Python 3 (ipykernel)",
   "language": "python",
   "name": "python3"
  },
  "language_info": {
   "codemirror_mode": {
    "name": "ipython",
    "version": 3
   },
   "file_extension": ".py",
   "mimetype": "text/x-python",
   "name": "python",
   "nbconvert_exporter": "python",
   "pygments_lexer": "ipython3",
   "version": "3.9.7"
  }
 },
 "nbformat": 4,
 "nbformat_minor": 5
}
